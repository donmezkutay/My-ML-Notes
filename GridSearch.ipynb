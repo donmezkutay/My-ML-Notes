{
 "cells": [
  {
   "cell_type": "code",
   "execution_count": 56,
   "id": "8132a7c6-5364-4201-b592-0b90f66ff4db",
   "metadata": {},
   "outputs": [],
   "source": [
    "import numpy as np\n",
    "from sklearn.model_selection import KFold\n",
    "from sklearn.preprocessing import StandardScaler\n",
    "from sklearn.kernel_ridge import KernelRidge\n",
    "from sklearn.metrics import mean_squared_error\n",
    "from scipy.stats import pearsonr"
   ]
  },
  {
   "cell_type": "code",
   "execution_count": 29,
   "id": "9190da0d-dbd6-489f-b4af-d0b7f2ec5be6",
   "metadata": {},
   "outputs": [],
   "source": [
    "# generate random data\n",
    "def generate_data(xmin, xmax, Delta, noise):\n",
    "    # calculate f=sinx1 + cosx2\n",
    "    x1 = np.arange(xmin, xmax+Delta, Delta)\n",
    "    x2 = np.arange(xmin, xmax+Delta, Delta)\n",
    "    \n",
    "    x1, x2 = np.meshgrid(x1, x2)\n",
    "    f = np.sin(x1) + np.cos(x2)\n",
    "   \n",
    "    # add random noise\n",
    "    np.random.seed(200) # for reproducibility\n",
    "    for i in range(len(f)):\n",
    "        for j in range(len(f[0])):\n",
    "            f[i][j] = f[i][j] + np.random.uniform(-noise, noise) # random noise addition\n",
    "    return x1, x2, f\n",
    "\n",
    "x1,x2,f = generate_data(-10, 10, 1.0, 0.5)"
   ]
  },
  {
   "cell_type": "code",
   "execution_count": 41,
   "id": "7d74c5f1-e669-4a0d-8496-42bcdd95ec8c",
   "metadata": {},
   "outputs": [],
   "source": [
    "# convert data to (X,y)\n",
    "def prepare_data_to_KRR(x1, x2, f):\n",
    "    X = []\n",
    "    for i in range(len(f)):\n",
    "        for j in range(len(f)):\n",
    "            X_term = []\n",
    "            X_term.append(x1[i][j])\n",
    "            X_term.append(x2[i][j])\n",
    "            X.append(X_term)\n",
    "            \n",
    "    y = f.flatten()\n",
    "    X = np.array(X)\n",
    "    y = np.array(y)\n",
    "    return X,y\n",
    "\n",
    "X,y = prepare_data_to_KRR(x1,x2,f)"
   ]
  },
  {
   "cell_type": "code",
   "execution_count": null,
   "id": "7bb03377-abb4-42a4-b6c5-aaf3cda4d410",
   "metadata": {},
   "outputs": [],
   "source": []
  },
  {
   "cell_type": "code",
   "execution_count": 66,
   "id": "4652031a-a18b-4335-8fa3-655abc50e555",
   "metadata": {},
   "outputs": [],
   "source": [
    "#kernel ridge regression\n",
    "def KRR_function(hyperparams, X, y):\n",
    "    # assign hyperparameters\n",
    "    alpha_value,gamma_value = hyperparams\n",
    "    \n",
    "    y_pred_total = []\n",
    "    y_test_total = []\n",
    "    \n",
    "    # split the data into test and train\n",
    "    kf = KFold(n_splits=10, shuffle=True, random_state=200)\n",
    "    \n",
    "    # kf fold cross val loop\n",
    "    for train_index, test_index in kf.split(X):\n",
    "        \n",
    "        X_train, X_test = X[train_index], X[test_index]\n",
    "        y_train, y_test = y[train_index], y[test_index]\n",
    "        \n",
    "        # scale train and tests\n",
    "        scaler = StandardScaler().fit(X_train)\n",
    "        X_train_scaled = scaler.transform(X_train)\n",
    "        X_test_scaled = scaler.transform(X_test)\n",
    "        \n",
    "        # fit KRR\n",
    "        KRR = KernelRidge(kernel='rbf', alpha=alpha_value, gamma=gamma_value)\n",
    "        \n",
    "        y_pred = KRR.fit(X_train_scaled, y_train).predict(X_test_scaled)\n",
    "        \n",
    "        y_pred_total.append(y_pred)\n",
    "        y_test_total.append(y_test)\n",
    "        \n",
    "    # flatten\n",
    "    y_pred_total = [item for sublist in y_pred_total for item in sublist]\n",
    "    y_test_total = [item for sublist in y_test_total for item in sublist]\n",
    "    \n",
    "    # calculate error metric\n",
    "    rmse = np.sqrt(mean_squared_error(y_test_total, y_pred_total))\n",
    "    #r_pearson = pearsonr(y_test_total, y_pred_total)\n",
    "    #print('KRR k-fold cross-validation . alpha: %7.6f, gamma: %7.4f, RMSE: %7.4f, r: %7.4f' %(alpha_value,gamma_value,rmse,r_pearson))\n",
    "    return rmse"
   ]
  },
  {
   "cell_type": "code",
   "execution_count": 67,
   "id": "eec5d4c2-a365-454d-95b7-f7845976f204",
   "metadata": {},
   "outputs": [],
   "source": [
    "# creating hyperparameters\n",
    "def create_hyperparams_grid(X, y):\n",
    "    \n",
    "    graph_x  = []\n",
    "    graph_y  = []    \n",
    "    graph_z  = []    \n",
    "    \n",
    "    for alpha_value in np.arange(-5.0, 2.0, 0.7):\n",
    "        \n",
    "        alpha_value = pow(10, alpha_value)\n",
    "        \n",
    "        graph_x_row  = []\n",
    "        graph_y_row  = []    \n",
    "        graph_z_row  = []  \n",
    "        \n",
    "        for gamma_value in np.arange(0.0, 20, 2):\n",
    "            \n",
    "            hyperparams = (alpha_value, gamma_value)\n",
    "            rmse = KRR_function(hyperparams, X, y)\n",
    "            graph_x_row.append(alpha_value)\n",
    "            graph_y_row.append(gamma_value)\n",
    "            graph_z_row.append(rmse)\n",
    "            \n",
    "        graph_x.append(graph_x_row)\n",
    "        graph_y.append(graph_y_row)\n",
    "        graph_z.append(graph_z_row)\n",
    "        print('')\n",
    "        \n",
    "    graph_x=np.array(graph_x)\n",
    "    graph_y=np.array(graph_y)\n",
    "    graph_z=np.array(graph_z)\n",
    "    min_z = np.min(graph_z)\n",
    "    \n",
    "    pos_min_z = np.argwhere(graph_z == min_z)[0]\n",
    "    \n",
    "    print('Minimum RMSE: %.4f' %(min_z))\n",
    "    print('Optimum alpha: %f' %(graph_x[pos_min_z[0],pos_min_z[1]]))\n",
    "    print('Optimum gamma: %f' %(graph_y[pos_min_z[0],pos_min_z[1]]))"
   ]
  },
  {
   "cell_type": "code",
   "execution_count": 68,
   "id": "a3843460-a870-4556-b9eb-d44b8c43a5d6",
   "metadata": {},
   "outputs": [
    {
     "name": "stdout",
     "output_type": "stream",
     "text": [
      "\n",
      "\n",
      "\n",
      "\n",
      "\n",
      "\n",
      "\n",
      "\n",
      "\n",
      "\n",
      "Minimum RMSE: 0.3425\n",
      "Optimum alpha: 0.006310\n",
      "Optimum gamma: 2.000000\n"
     ]
    }
   ],
   "source": [
    "# Create {x1,x2,f} dataset every 1.0 from -10 to 10, with a noise of +/- 2\n",
    "x1,x2,f=generate_data(-10,10,1.0,0.5)\n",
    "# Prepare X and y for KRR\n",
    "X,y = prepare_data_to_KRR(x1,x2,f)\n",
    "# Create hyperparams grid\n",
    "create_hyperparams_grid(X,y)"
   ]
  },
  {
   "cell_type": "code",
   "execution_count": null,
   "id": "ae0ce35e-1733-4db7-90ac-c653002e38f1",
   "metadata": {},
   "outputs": [],
   "source": []
  }
 ],
 "metadata": {
  "kernelspec": {
   "display_name": "Python 3 (ipykernel)",
   "language": "python",
   "name": "python3"
  },
  "language_info": {
   "codemirror_mode": {
    "name": "ipython",
    "version": 3
   },
   "file_extension": ".py",
   "mimetype": "text/x-python",
   "name": "python",
   "nbconvert_exporter": "python",
   "pygments_lexer": "ipython3",
   "version": "3.9.7"
  }
 },
 "nbformat": 4,
 "nbformat_minor": 5
}
