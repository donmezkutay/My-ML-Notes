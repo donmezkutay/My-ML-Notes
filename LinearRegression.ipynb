{
 "cells": [
  {
   "cell_type": "code",
   "execution_count": 69,
   "id": "b58f313b-77f8-4823-81b8-1294116b83f4",
   "metadata": {},
   "outputs": [],
   "source": [
    "import numpy as np\n",
    "import pandas as pd\n",
    "import matplotlib.pyplot as plt\n",
    "\n",
    "from sklearn.linear_model import LinearRegression\n",
    "from sklearn.model_selection import train_test_split\n",
    "\n",
    "from sklearn.metrics import mean_squared_error, mean_absolute_error, r2_score\n",
    "from seffaflik.elektrik import santraller, tuketim, uretim, yekdem"
   ]
  },
  {
   "cell_type": "code",
   "execution_count": 6,
   "id": "0064a3c8-06c3-4df6-b6a4-ed944e1cd95a",
   "metadata": {},
   "outputs": [],
   "source": [
    "# get Turkey's energy production dataset from epias\n",
    "start_date = '2020-01-01'\n",
    "end_date = '2021-01-01'\n",
    "production = uretim.gerceklesen(start_date, end_date,)"
   ]
  },
  {
   "cell_type": "code",
   "execution_count": 10,
   "id": "39a8aa1b-58e5-43c6-b572-71a94072be23",
   "metadata": {},
   "outputs": [
    {
     "data": {
      "text/plain": [
       "(8808, 18)"
      ]
     },
     "execution_count": 10,
     "metadata": {},
     "output_type": "execute_result"
    }
   ],
   "source": [
    "production.shape"
   ]
  },
  {
   "cell_type": "code",
   "execution_count": 9,
   "id": "b504d25a-68cd-409b-87b9-efe33234a73c",
   "metadata": {},
   "outputs": [
    {
     "data": {
      "text/html": [
       "<div>\n",
       "<style scoped>\n",
       "    .dataframe tbody tr th:only-of-type {\n",
       "        vertical-align: middle;\n",
       "    }\n",
       "\n",
       "    .dataframe tbody tr th {\n",
       "        vertical-align: top;\n",
       "    }\n",
       "\n",
       "    .dataframe thead th {\n",
       "        text-align: right;\n",
       "    }\n",
       "</style>\n",
       "<table border=\"1\" class=\"dataframe\">\n",
       "  <thead>\n",
       "    <tr style=\"text-align: right;\">\n",
       "      <th></th>\n",
       "      <th>Tarih</th>\n",
       "      <th>Saat</th>\n",
       "      <th>Doğalgaz</th>\n",
       "      <th>Barajlı</th>\n",
       "      <th>Linyit</th>\n",
       "      <th>Akarsu</th>\n",
       "      <th>İthal Kömür</th>\n",
       "      <th>Rüzgar</th>\n",
       "      <th>Güneş</th>\n",
       "      <th>Fuel Oil</th>\n",
       "      <th>Jeo Termal</th>\n",
       "      <th>Asfaltit Kömür</th>\n",
       "      <th>Taş Kömür</th>\n",
       "      <th>Biyokütle</th>\n",
       "      <th>Nafta</th>\n",
       "      <th>LNG</th>\n",
       "      <th>Uluslararası</th>\n",
       "      <th>Toplam</th>\n",
       "    </tr>\n",
       "  </thead>\n",
       "  <tbody>\n",
       "    <tr>\n",
       "      <th>0</th>\n",
       "      <td>2020-01-01</td>\n",
       "      <td>0</td>\n",
       "      <td>6166.40</td>\n",
       "      <td>3761.62</td>\n",
       "      <td>5780.09</td>\n",
       "      <td>1545.26</td>\n",
       "      <td>7302.54</td>\n",
       "      <td>770.50</td>\n",
       "      <td>0.0</td>\n",
       "      <td>35.5</td>\n",
       "      <td>1157.82</td>\n",
       "      <td>293.65</td>\n",
       "      <td>572.31</td>\n",
       "      <td>396.65</td>\n",
       "      <td>0</td>\n",
       "      <td>0</td>\n",
       "      <td>278.0</td>\n",
       "      <td>28060.34</td>\n",
       "    </tr>\n",
       "    <tr>\n",
       "      <th>1</th>\n",
       "      <td>2020-01-01</td>\n",
       "      <td>1</td>\n",
       "      <td>5161.03</td>\n",
       "      <td>3079.97</td>\n",
       "      <td>5792.66</td>\n",
       "      <td>1548.51</td>\n",
       "      <td>7286.46</td>\n",
       "      <td>776.18</td>\n",
       "      <td>0.0</td>\n",
       "      <td>35.8</td>\n",
       "      <td>1164.57</td>\n",
       "      <td>273.78</td>\n",
       "      <td>575.65</td>\n",
       "      <td>392.46</td>\n",
       "      <td>0</td>\n",
       "      <td>0</td>\n",
       "      <td>394.0</td>\n",
       "      <td>26481.07</td>\n",
       "    </tr>\n",
       "    <tr>\n",
       "      <th>2</th>\n",
       "      <td>2020-01-01</td>\n",
       "      <td>2</td>\n",
       "      <td>5149.52</td>\n",
       "      <td>2160.79</td>\n",
       "      <td>5755.22</td>\n",
       "      <td>1460.39</td>\n",
       "      <td>7281.67</td>\n",
       "      <td>787.75</td>\n",
       "      <td>0.0</td>\n",
       "      <td>36.3</td>\n",
       "      <td>1167.74</td>\n",
       "      <td>273.78</td>\n",
       "      <td>585.67</td>\n",
       "      <td>390.22</td>\n",
       "      <td>0</td>\n",
       "      <td>0</td>\n",
       "      <td>172.0</td>\n",
       "      <td>25221.05</td>\n",
       "    </tr>\n",
       "    <tr>\n",
       "      <th>3</th>\n",
       "      <td>2020-01-01</td>\n",
       "      <td>3</td>\n",
       "      <td>3860.16</td>\n",
       "      <td>2292.47</td>\n",
       "      <td>5793.94</td>\n",
       "      <td>1591.92</td>\n",
       "      <td>7299.57</td>\n",
       "      <td>815.19</td>\n",
       "      <td>0.0</td>\n",
       "      <td>36.6</td>\n",
       "      <td>1168.91</td>\n",
       "      <td>271.57</td>\n",
       "      <td>569.56</td>\n",
       "      <td>392.99</td>\n",
       "      <td>0</td>\n",
       "      <td>0</td>\n",
       "      <td>154.0</td>\n",
       "      <td>24246.88</td>\n",
       "    </tr>\n",
       "    <tr>\n",
       "      <th>4</th>\n",
       "      <td>2020-01-01</td>\n",
       "      <td>4</td>\n",
       "      <td>3437.43</td>\n",
       "      <td>2470.96</td>\n",
       "      <td>5626.99</td>\n",
       "      <td>1653.69</td>\n",
       "      <td>7299.74</td>\n",
       "      <td>939.26</td>\n",
       "      <td>0.0</td>\n",
       "      <td>33.0</td>\n",
       "      <td>1167.93</td>\n",
       "      <td>273.78</td>\n",
       "      <td>374.90</td>\n",
       "      <td>401.09</td>\n",
       "      <td>0</td>\n",
       "      <td>0</td>\n",
       "      <td>-13.0</td>\n",
       "      <td>23665.77</td>\n",
       "    </tr>\n",
       "  </tbody>\n",
       "</table>\n",
       "</div>"
      ],
      "text/plain": [
       "       Tarih  Saat  Doğalgaz  Barajlı   Linyit   Akarsu  İthal Kömür  Rüzgar  \\\n",
       "0 2020-01-01     0   6166.40  3761.62  5780.09  1545.26      7302.54  770.50   \n",
       "1 2020-01-01     1   5161.03  3079.97  5792.66  1548.51      7286.46  776.18   \n",
       "2 2020-01-01     2   5149.52  2160.79  5755.22  1460.39      7281.67  787.75   \n",
       "3 2020-01-01     3   3860.16  2292.47  5793.94  1591.92      7299.57  815.19   \n",
       "4 2020-01-01     4   3437.43  2470.96  5626.99  1653.69      7299.74  939.26   \n",
       "\n",
       "   Güneş  Fuel Oil  Jeo Termal  Asfaltit Kömür  Taş Kömür  Biyokütle  Nafta  \\\n",
       "0    0.0      35.5     1157.82          293.65     572.31     396.65      0   \n",
       "1    0.0      35.8     1164.57          273.78     575.65     392.46      0   \n",
       "2    0.0      36.3     1167.74          273.78     585.67     390.22      0   \n",
       "3    0.0      36.6     1168.91          271.57     569.56     392.99      0   \n",
       "4    0.0      33.0     1167.93          273.78     374.90     401.09      0   \n",
       "\n",
       "   LNG  Uluslararası    Toplam  \n",
       "0    0         278.0  28060.34  \n",
       "1    0         394.0  26481.07  \n",
       "2    0         172.0  25221.05  \n",
       "3    0         154.0  24246.88  \n",
       "4    0         -13.0  23665.77  "
      ]
     },
     "execution_count": 9,
     "metadata": {},
     "output_type": "execute_result"
    }
   ],
   "source": [
    "production.head(5)"
   ]
  },
  {
   "cell_type": "code",
   "execution_count": 11,
   "id": "40bca3e5-09a5-4b7d-80c8-1553f8b9ce04",
   "metadata": {},
   "outputs": [
    {
     "name": "stdout",
     "output_type": "stream",
     "text": [
      "<class 'pandas.core.frame.DataFrame'>\n",
      "Index: 8808 entries, 0 to 8807\n",
      "Data columns (total 18 columns):\n",
      " #   Column          Non-Null Count  Dtype         \n",
      "---  ------          --------------  -----         \n",
      " 0   Tarih           8808 non-null   datetime64[ns]\n",
      " 1   Saat            8808 non-null   int64         \n",
      " 2   Doğalgaz        8808 non-null   float64       \n",
      " 3   Barajlı         8808 non-null   float64       \n",
      " 4   Linyit          8808 non-null   float64       \n",
      " 5   Akarsu          8808 non-null   float64       \n",
      " 6   İthal Kömür     8808 non-null   float64       \n",
      " 7   Rüzgar          8808 non-null   float64       \n",
      " 8   Güneş           8808 non-null   float64       \n",
      " 9   Fuel Oil        8808 non-null   float64       \n",
      " 10  Jeo Termal      8808 non-null   float64       \n",
      " 11  Asfaltit Kömür  8808 non-null   float64       \n",
      " 12  Taş Kömür       8808 non-null   float64       \n",
      " 13  Biyokütle       8808 non-null   float64       \n",
      " 14  Nafta           8808 non-null   int64         \n",
      " 15  LNG             8808 non-null   int64         \n",
      " 16  Uluslararası    8808 non-null   float64       \n",
      " 17  Toplam          8808 non-null   float64       \n",
      "dtypes: datetime64[ns](1), float64(14), int64(3)\n",
      "memory usage: 1.3+ MB\n"
     ]
    }
   ],
   "source": [
    "production.info()"
   ]
  },
  {
   "cell_type": "code",
   "execution_count": 12,
   "id": "2fd6fe2c-60fa-462b-b338-a8cd8aadca28",
   "metadata": {},
   "outputs": [
    {
     "data": {
      "text/plain": [
       "Index(['Tarih', 'Saat', 'Doğalgaz', 'Barajlı', 'Linyit', 'Akarsu',\n",
       "       'İthal Kömür', 'Rüzgar', 'Güneş', 'Fuel Oil', 'Jeo Termal',\n",
       "       'Asfaltit Kömür', 'Taş Kömür', 'Biyokütle', 'Nafta', 'LNG',\n",
       "       'Uluslararası', 'Toplam'],\n",
       "      dtype='object')"
      ]
     },
     "execution_count": 12,
     "metadata": {},
     "output_type": "execute_result"
    }
   ],
   "source": [
    "production.columns"
   ]
  },
  {
   "cell_type": "code",
   "execution_count": 13,
   "id": "4d623aa0-f861-4105-b369-fa26145234d4",
   "metadata": {},
   "outputs": [
    {
     "data": {
      "text/html": [
       "<div>\n",
       "<style scoped>\n",
       "    .dataframe tbody tr th:only-of-type {\n",
       "        vertical-align: middle;\n",
       "    }\n",
       "\n",
       "    .dataframe tbody tr th {\n",
       "        vertical-align: top;\n",
       "    }\n",
       "\n",
       "    .dataframe thead th {\n",
       "        text-align: right;\n",
       "    }\n",
       "</style>\n",
       "<table border=\"1\" class=\"dataframe\">\n",
       "  <thead>\n",
       "    <tr style=\"text-align: right;\">\n",
       "      <th></th>\n",
       "      <th>Saat</th>\n",
       "      <th>Doğalgaz</th>\n",
       "      <th>Barajlı</th>\n",
       "      <th>Linyit</th>\n",
       "      <th>Akarsu</th>\n",
       "      <th>İthal Kömür</th>\n",
       "      <th>Rüzgar</th>\n",
       "      <th>Güneş</th>\n",
       "      <th>Fuel Oil</th>\n",
       "      <th>Jeo Termal</th>\n",
       "      <th>Asfaltit Kömür</th>\n",
       "      <th>Taş Kömür</th>\n",
       "      <th>Biyokütle</th>\n",
       "      <th>Nafta</th>\n",
       "      <th>LNG</th>\n",
       "      <th>Uluslararası</th>\n",
       "      <th>Toplam</th>\n",
       "    </tr>\n",
       "  </thead>\n",
       "  <tbody>\n",
       "    <tr>\n",
       "      <th>count</th>\n",
       "      <td>8808.00000</td>\n",
       "      <td>8808.000000</td>\n",
       "      <td>8808.000000</td>\n",
       "      <td>8808.000000</td>\n",
       "      <td>8808.000000</td>\n",
       "      <td>8808.000000</td>\n",
       "      <td>8808.000000</td>\n",
       "      <td>8808.000000</td>\n",
       "      <td>8808.000000</td>\n",
       "      <td>8808.000000</td>\n",
       "      <td>8808.000000</td>\n",
       "      <td>8808.000000</td>\n",
       "      <td>8808.000000</td>\n",
       "      <td>8808.0</td>\n",
       "      <td>8808.0</td>\n",
       "      <td>8808.000000</td>\n",
       "      <td>8808.000000</td>\n",
       "    </tr>\n",
       "    <tr>\n",
       "      <th>mean</th>\n",
       "      <td>11.50000</td>\n",
       "      <td>7746.026504</td>\n",
       "      <td>6515.794933</td>\n",
       "      <td>4303.827785</td>\n",
       "      <td>2331.419566</td>\n",
       "      <td>7111.608642</td>\n",
       "      <td>2788.028970</td>\n",
       "      <td>47.980268</td>\n",
       "      <td>35.631681</td>\n",
       "      <td>1061.087693</td>\n",
       "      <td>252.972661</td>\n",
       "      <td>431.470344</td>\n",
       "      <td>463.165296</td>\n",
       "      <td>0.0</td>\n",
       "      <td>0.0</td>\n",
       "      <td>-62.418569</td>\n",
       "      <td>33026.595775</td>\n",
       "    </tr>\n",
       "    <tr>\n",
       "      <th>std</th>\n",
       "      <td>6.92258</td>\n",
       "      <td>3952.323549</td>\n",
       "      <td>3171.403680</td>\n",
       "      <td>622.512318</td>\n",
       "      <td>1448.579504</td>\n",
       "      <td>1716.678584</td>\n",
       "      <td>1608.350955</td>\n",
       "      <td>66.317553</td>\n",
       "      <td>3.309019</td>\n",
       "      <td>105.220071</td>\n",
       "      <td>79.484606</td>\n",
       "      <td>158.347459</td>\n",
       "      <td>36.506329</td>\n",
       "      <td>0.0</td>\n",
       "      <td>0.0</td>\n",
       "      <td>315.830842</td>\n",
       "      <td>5495.008940</td>\n",
       "    </tr>\n",
       "    <tr>\n",
       "      <th>min</th>\n",
       "      <td>0.00000</td>\n",
       "      <td>496.660000</td>\n",
       "      <td>366.190000</td>\n",
       "      <td>2189.100000</td>\n",
       "      <td>419.440000</td>\n",
       "      <td>992.650000</td>\n",
       "      <td>139.760000</td>\n",
       "      <td>0.000000</td>\n",
       "      <td>0.000000</td>\n",
       "      <td>663.530000</td>\n",
       "      <td>48.570000</td>\n",
       "      <td>167.240000</td>\n",
       "      <td>369.680000</td>\n",
       "      <td>0.0</td>\n",
       "      <td>0.0</td>\n",
       "      <td>-1949.250000</td>\n",
       "      <td>15246.640000</td>\n",
       "    </tr>\n",
       "    <tr>\n",
       "      <th>25%</th>\n",
       "      <td>5.75000</td>\n",
       "      <td>3980.625000</td>\n",
       "      <td>3902.125000</td>\n",
       "      <td>3921.495000</td>\n",
       "      <td>1090.195000</td>\n",
       "      <td>6708.195000</td>\n",
       "      <td>1370.720000</td>\n",
       "      <td>0.000000</td>\n",
       "      <td>34.200000</td>\n",
       "      <td>993.385000</td>\n",
       "      <td>211.960000</td>\n",
       "      <td>272.177500</td>\n",
       "      <td>439.615000</td>\n",
       "      <td>0.0</td>\n",
       "      <td>0.0</td>\n",
       "      <td>-313.360000</td>\n",
       "      <td>29067.472500</td>\n",
       "    </tr>\n",
       "    <tr>\n",
       "      <th>50%</th>\n",
       "      <td>11.50000</td>\n",
       "      <td>8929.805000</td>\n",
       "      <td>6796.245000</td>\n",
       "      <td>4305.005000</td>\n",
       "      <td>1809.795000</td>\n",
       "      <td>7656.220000</td>\n",
       "      <td>2588.285000</td>\n",
       "      <td>2.670000</td>\n",
       "      <td>36.400000</td>\n",
       "      <td>1089.000000</td>\n",
       "      <td>242.880000</td>\n",
       "      <td>438.840000</td>\n",
       "      <td>458.440000</td>\n",
       "      <td>0.0</td>\n",
       "      <td>0.0</td>\n",
       "      <td>-85.000000</td>\n",
       "      <td>32908.105000</td>\n",
       "    </tr>\n",
       "    <tr>\n",
       "      <th>75%</th>\n",
       "      <td>17.25000</td>\n",
       "      <td>11058.337500</td>\n",
       "      <td>9052.125000</td>\n",
       "      <td>4732.692500</td>\n",
       "      <td>3552.550000</td>\n",
       "      <td>8340.122500</td>\n",
       "      <td>4092.695000</td>\n",
       "      <td>93.282500</td>\n",
       "      <td>37.800000</td>\n",
       "      <td>1141.867500</td>\n",
       "      <td>333.390000</td>\n",
       "      <td>598.862500</td>\n",
       "      <td>480.445000</td>\n",
       "      <td>0.0</td>\n",
       "      <td>0.0</td>\n",
       "      <td>182.000000</td>\n",
       "      <td>37484.857500</td>\n",
       "    </tr>\n",
       "    <tr>\n",
       "      <th>max</th>\n",
       "      <td>23.00000</td>\n",
       "      <td>14615.630000</td>\n",
       "      <td>15891.780000</td>\n",
       "      <td>6149.070000</td>\n",
       "      <td>5744.500000</td>\n",
       "      <td>8790.980000</td>\n",
       "      <td>6861.040000</td>\n",
       "      <td>297.990000</td>\n",
       "      <td>43.600000</td>\n",
       "      <td>1255.580000</td>\n",
       "      <td>362.100000</td>\n",
       "      <td>692.620000</td>\n",
       "      <td>596.090000</td>\n",
       "      <td>0.0</td>\n",
       "      <td>0.0</td>\n",
       "      <td>789.000000</td>\n",
       "      <td>45210.030000</td>\n",
       "    </tr>\n",
       "  </tbody>\n",
       "</table>\n",
       "</div>"
      ],
      "text/plain": [
       "             Saat      Doğalgaz       Barajlı       Linyit       Akarsu  \\\n",
       "count  8808.00000   8808.000000   8808.000000  8808.000000  8808.000000   \n",
       "mean     11.50000   7746.026504   6515.794933  4303.827785  2331.419566   \n",
       "std       6.92258   3952.323549   3171.403680   622.512318  1448.579504   \n",
       "min       0.00000    496.660000    366.190000  2189.100000   419.440000   \n",
       "25%       5.75000   3980.625000   3902.125000  3921.495000  1090.195000   \n",
       "50%      11.50000   8929.805000   6796.245000  4305.005000  1809.795000   \n",
       "75%      17.25000  11058.337500   9052.125000  4732.692500  3552.550000   \n",
       "max      23.00000  14615.630000  15891.780000  6149.070000  5744.500000   \n",
       "\n",
       "       İthal Kömür       Rüzgar        Güneş     Fuel Oil   Jeo Termal  \\\n",
       "count  8808.000000  8808.000000  8808.000000  8808.000000  8808.000000   \n",
       "mean   7111.608642  2788.028970    47.980268    35.631681  1061.087693   \n",
       "std    1716.678584  1608.350955    66.317553     3.309019   105.220071   \n",
       "min     992.650000   139.760000     0.000000     0.000000   663.530000   \n",
       "25%    6708.195000  1370.720000     0.000000    34.200000   993.385000   \n",
       "50%    7656.220000  2588.285000     2.670000    36.400000  1089.000000   \n",
       "75%    8340.122500  4092.695000    93.282500    37.800000  1141.867500   \n",
       "max    8790.980000  6861.040000   297.990000    43.600000  1255.580000   \n",
       "\n",
       "       Asfaltit Kömür    Taş Kömür    Biyokütle   Nafta     LNG  Uluslararası  \\\n",
       "count     8808.000000  8808.000000  8808.000000  8808.0  8808.0   8808.000000   \n",
       "mean       252.972661   431.470344   463.165296     0.0     0.0    -62.418569   \n",
       "std         79.484606   158.347459    36.506329     0.0     0.0    315.830842   \n",
       "min         48.570000   167.240000   369.680000     0.0     0.0  -1949.250000   \n",
       "25%        211.960000   272.177500   439.615000     0.0     0.0   -313.360000   \n",
       "50%        242.880000   438.840000   458.440000     0.0     0.0    -85.000000   \n",
       "75%        333.390000   598.862500   480.445000     0.0     0.0    182.000000   \n",
       "max        362.100000   692.620000   596.090000     0.0     0.0    789.000000   \n",
       "\n",
       "             Toplam  \n",
       "count   8808.000000  \n",
       "mean   33026.595775  \n",
       "std     5495.008940  \n",
       "min    15246.640000  \n",
       "25%    29067.472500  \n",
       "50%    32908.105000  \n",
       "75%    37484.857500  \n",
       "max    45210.030000  "
      ]
     },
     "execution_count": 13,
     "metadata": {},
     "output_type": "execute_result"
    }
   ],
   "source": [
    "production.describe()"
   ]
  },
  {
   "cell_type": "markdown",
   "id": "b4e74f78-2f97-4522-8c04-75d58029eb16",
   "metadata": {},
   "source": [
    "We are going to use İthal Kömür(coal) as our predictor variable (x) and Doğalgaz (natural gas) as our predictand variable (y)"
   ]
  },
  {
   "cell_type": "code",
   "execution_count": 78,
   "id": "75b9e21a-1c1d-4d15-ae73-480d74e04a84",
   "metadata": {},
   "outputs": [],
   "source": [
    "# 1000 amount of test data to be used\n",
    "X = production['İthal Kömür'].values.reshape(-1,1)\n",
    "y = production['Doğalgaz'].values.reshape(-1,1)"
   ]
  },
  {
   "cell_type": "code",
   "execution_count": 79,
   "id": "5eef5765-fa51-49e8-b086-60fd1ff4bb45",
   "metadata": {},
   "outputs": [],
   "source": [
    "X_train, X_test, y_train, y_test = train_test_split(X, y, test_size = 0.2, random_state = 0)"
   ]
  },
  {
   "cell_type": "code",
   "execution_count": 80,
   "id": "953712d2-3ed8-4bb7-9fa2-6bdced315855",
   "metadata": {},
   "outputs": [
    {
     "data": {
      "text/plain": [
       "<matplotlib.legend.Legend at 0x7f613a35fee0>"
      ]
     },
     "execution_count": 80,
     "metadata": {},
     "output_type": "execute_result"
    },
    {
     "data": {
      "image/png": "[encoded data removed]",
      "text/plain": [
       "<Figure size 432x288 with 1 Axes>"
      ]
     },
     "metadata": {
      "needs_background": "light"
     },
     "output_type": "display_data"
    }
   ],
   "source": [
    "plt.scatter(X_train, y_train, label='train')\n",
    "plt.scatter(X_test, y_test, label='test')\n",
    "plt.legend()"
   ]
  },
  {
   "cell_type": "code",
   "execution_count": 81,
   "id": "92b062c2-5f4a-4046-a9cc-3d1d4f5b7226",
   "metadata": {},
   "outputs": [
    {
     "data": {
      "text/plain": [
       "LinearRegression()"
      ]
     },
     "execution_count": 81,
     "metadata": {},
     "output_type": "execute_result"
    }
   ],
   "source": [
    "# launch the model\n",
    "regressor = LinearRegression()\n",
    "regressor.fit(X_train, y_train)"
   ]
  },
  {
   "cell_type": "code",
   "execution_count": 82,
   "id": "d60b72e1-5d82-4c85-924d-d9ac5e855ab6",
   "metadata": {},
   "outputs": [
    {
     "name": "stdout",
     "output_type": "stream",
     "text": [
      "intercept:  [-3791.32568998]\n",
      "coeff:  [[1.62304682]]\n"
     ]
    }
   ],
   "source": [
    "print('intercept: ', regressor.intercept_)\n",
    "print('coeff: ', regressor.coef_)"
   ]
  },
  {
   "cell_type": "code",
   "execution_count": 83,
   "id": "d62af0fa-6952-40e4-81ce-78d4c86703e6",
   "metadata": {},
   "outputs": [],
   "source": [
    "# make predictions\n",
    "y_pred = regressor.predict(X_test)"
   ]
  },
  {
   "cell_type": "code",
   "execution_count": 84,
   "id": "dc148d75-64b8-487e-a95a-8ebff5b90a37",
   "metadata": {},
   "outputs": [],
   "source": [
    "df_pred = pd.DataFrame({'Actual': y_test.flatten(),\n",
    "                        'Predicted': y_pred.flatten()})"
   ]
  },
  {
   "cell_type": "code",
   "execution_count": 85,
   "id": "9f303861-1be8-4a6a-904c-4a731c43a625",
   "metadata": {},
   "outputs": [
    {
     "data": {
      "text/html": [
       "<div>\n",
       "<style scoped>\n",
       "    .dataframe tbody tr th:only-of-type {\n",
       "        vertical-align: middle;\n",
       "    }\n",
       "\n",
       "    .dataframe tbody tr th {\n",
       "        vertical-align: top;\n",
       "    }\n",
       "\n",
       "    .dataframe thead th {\n",
       "        text-align: right;\n",
       "    }\n",
       "</style>\n",
       "<table border=\"1\" class=\"dataframe\">\n",
       "  <thead>\n",
       "    <tr style=\"text-align: right;\">\n",
       "      <th></th>\n",
       "      <th>Actual</th>\n",
       "      <th>Predicted</th>\n",
       "    </tr>\n",
       "  </thead>\n",
       "  <tbody>\n",
       "    <tr>\n",
       "      <th>0</th>\n",
       "      <td>7534.24</td>\n",
       "      <td>10203.363070</td>\n",
       "    </tr>\n",
       "    <tr>\n",
       "      <th>1</th>\n",
       "      <td>3272.59</td>\n",
       "      <td>5118.308686</td>\n",
       "    </tr>\n",
       "    <tr>\n",
       "      <th>2</th>\n",
       "      <td>6072.19</td>\n",
       "      <td>9970.228625</td>\n",
       "    </tr>\n",
       "    <tr>\n",
       "      <th>3</th>\n",
       "      <td>1200.22</td>\n",
       "      <td>600.135865</td>\n",
       "    </tr>\n",
       "    <tr>\n",
       "      <th>4</th>\n",
       "      <td>13304.25</td>\n",
       "      <td>9784.957830</td>\n",
       "    </tr>\n",
       "  </tbody>\n",
       "</table>\n",
       "</div>"
      ],
      "text/plain": [
       "     Actual     Predicted\n",
       "0   7534.24  10203.363070\n",
       "1   3272.59   5118.308686\n",
       "2   6072.19   9970.228625\n",
       "3   1200.22    600.135865\n",
       "4  13304.25   9784.957830"
      ]
     },
     "execution_count": 85,
     "metadata": {},
     "output_type": "execute_result"
    }
   ],
   "source": [
    "df_pred.head(5)"
   ]
  },
  {
   "cell_type": "code",
   "execution_count": 86,
   "id": "9013c52f-aae7-49e7-ae9f-8ca786f88f2e",
   "metadata": {},
   "outputs": [
    {
     "data": {
      "text/plain": [
       "<AxesSubplot:xlabel='Actual', ylabel='Predicted'>"
      ]
     },
     "execution_count": 86,
     "metadata": {},
     "output_type": "execute_result"
    },
    {
     "data": {
      "image/png": "[encoded data removed]",
      "text/plain": [
       "<Figure size 432x288 with 1 Axes>"
      ]
     },
     "metadata": {
      "needs_background": "light"
     },
     "output_type": "display_data"
    }
   ],
   "source": [
    "df_pred.plot(x = 'Actual', y='Predicted', kind='scatter')"
   ]
  },
  {
   "cell_type": "code",
   "execution_count": 87,
   "id": "eea0e900-dafb-43e7-be0b-8cfa49fc0c10",
   "metadata": {},
   "outputs": [
    {
     "name": "stdout",
     "output_type": "stream",
     "text": [
      "Mean squared error is:  8148891.376120101\n",
      "Mean absolute error is:  2361.513729834004\n",
      "Root mean squared error is:  2854.6263111167636\n",
      "Coefficient of determination is:  0.48056397938154627\n"
     ]
    }
   ],
   "source": [
    "# The mean squared error\n",
    "print('Mean squared error is: ', mean_squared_error(df_pred['Actual'], \n",
    "                                                    df_pred['Predicted']))\n",
    "\n",
    "# The mean absolute error\n",
    "print('Mean absolute error is: ', mean_absolute_error(df_pred['Actual'], \n",
    "                                                      df_pred['Predicted']))\n",
    "\n",
    "# The root mean squared error\n",
    "print('Root mean squared error is: ', np.sqrt(mean_squared_error(df_pred['Actual'], \n",
    "                                                                 df_pred['Predicted'])))\n",
    "\n",
    "# The coefficient of determination: 1 is perfect prediction\n",
    "print('Coefficient of determination is: ', r2_score(df_pred['Actual'], \n",
    "                                                    df_pred['Predicted']))"
   ]
  },
  {
   "cell_type": "markdown",
   "id": "89cd5670-1bc2-46e5-882b-ef342124fb77",
   "metadata": {},
   "source": [
    "Seems like there is no linear relation between Natural gas and Coal production"
   ]
  },
  {
   "cell_type": "code",
   "execution_count": 90,
   "id": "428b7baa-3a8e-4c42-9f19-2cb7dc2bc5b0",
   "metadata": {},
   "outputs": [
    {
     "data": {
      "text/plain": [
       "[<matplotlib.lines.Line2D at 0x7f613906ba00>]"
      ]
     },
     "execution_count": 90,
     "metadata": {},
     "output_type": "execute_result"
    },
    {
     "data": {
      "image/png": "[encoded data removed]",
      "text/plain": [
       "<Figure size 432x288 with 1 Axes>"
      ]
     },
     "metadata": {
      "needs_background": "light"
     },
     "output_type": "display_data"
    }
   ],
   "source": [
    "plt.scatter(X_test, y_test, color='gray')\n",
    "plt.plot(X_test, y_pred, color = 'red', lw = 2)"
   ]
  },
  {
   "cell_type": "markdown",
   "id": "30c78471-27bc-4053-b81b-43b7b8f7dd0e",
   "metadata": {},
   "source": [
    "Yarın multiple LR ve ploynomial LR ile devam et yeni notebook ile"
   ]
  },
  {
   "cell_type": "markdown",
   "id": "a5681b56-bbbf-42c4-a091-39f5c10d7f0d",
   "metadata": {},
   "source": [
    " Bir de buranın altına aynı LR 'i statsmodel kütüphanesini kullanarak yap'"
   ]
  },
  {
   "cell_type": "code",
   "execution_count": null,
   "id": "27c3771b-bb4c-48f5-b390-8d70a2350343",
   "metadata": {},
   "outputs": [],
   "source": []
  }
 ],
 "metadata": {
  "kernelspec": {
   "display_name": "Python 3 (ipykernel)",
   "language": "python",
   "name": "python3"
  },
  "language_info": {
   "codemirror_mode": {
    "name": "ipython",
    "version": 3
   },
   "file_extension": ".py",
   "mimetype": "text/x-python",
   "name": "python",
   "nbconvert_exporter": "python",
   "pygments_lexer": "ipython3",
   "version": "3.9.7"
  }
 },
 "nbformat": 4,
 "nbformat_minor": 5
}
