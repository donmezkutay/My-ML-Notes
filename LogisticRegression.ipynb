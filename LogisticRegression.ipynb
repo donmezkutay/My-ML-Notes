{
 "cells": [
  {
   "cell_type": "code",
   "execution_count": 119,
   "id": "fcc1e71a-b0f9-4365-b6d9-10d607555ab2",
   "metadata": {},
   "outputs": [],
   "source": [
    "import numpy as np\n",
    "import pandas as pd\n",
    "import matplotlib.pyplot as plt\n",
    "\n",
    "from sklearn.linear_model import LogisticRegression\n",
    "from sklearn.model_selection import train_test_split\n",
    "from sklearn.metrics import classification_report, confusion_matrix, roc_auc_score, roc_curve\n",
    "from sklearn.preprocessing import StandardScaler\n",
    "\n",
    "from seffaflik.elektrik import santraller, tuketim, uretim, yekdem"
   ]
  },
  {
   "cell_type": "code",
   "execution_count": 3,
   "id": "89424e4b-80e5-4a4f-be41-766a4370445b",
   "metadata": {},
   "outputs": [],
   "source": [
    "# get Turkey's energy production dataset from epias\n",
    "start_date = '2020-01-01'\n",
    "end_date = '2021-01-01'\n",
    "production = uretim.gerceklesen(start_date, end_date,)"
   ]
  },
  {
   "cell_type": "code",
   "execution_count": 4,
   "id": "bb2580c6-0749-470b-be8b-9e41285faae5",
   "metadata": {},
   "outputs": [
    {
     "data": {
      "text/html": [
       "<div>\n",
       "<style scoped>\n",
       "    .dataframe tbody tr th:only-of-type {\n",
       "        vertical-align: middle;\n",
       "    }\n",
       "\n",
       "    .dataframe tbody tr th {\n",
       "        vertical-align: top;\n",
       "    }\n",
       "\n",
       "    .dataframe thead th {\n",
       "        text-align: right;\n",
       "    }\n",
       "</style>\n",
       "<table border=\"1\" class=\"dataframe\">\n",
       "  <thead>\n",
       "    <tr style=\"text-align: right;\">\n",
       "      <th></th>\n",
       "      <th>Tarih</th>\n",
       "      <th>Saat</th>\n",
       "      <th>Doğalgaz</th>\n",
       "      <th>Barajlı</th>\n",
       "      <th>Linyit</th>\n",
       "      <th>Akarsu</th>\n",
       "      <th>İthal Kömür</th>\n",
       "      <th>Rüzgar</th>\n",
       "      <th>Güneş</th>\n",
       "      <th>Fuel Oil</th>\n",
       "      <th>Jeo Termal</th>\n",
       "      <th>Asfaltit Kömür</th>\n",
       "      <th>Taş Kömür</th>\n",
       "      <th>Biyokütle</th>\n",
       "      <th>Nafta</th>\n",
       "      <th>LNG</th>\n",
       "      <th>Uluslararası</th>\n",
       "      <th>Toplam</th>\n",
       "    </tr>\n",
       "  </thead>\n",
       "  <tbody>\n",
       "    <tr>\n",
       "      <th>0</th>\n",
       "      <td>2020-01-01</td>\n",
       "      <td>0</td>\n",
       "      <td>6166.40</td>\n",
       "      <td>3761.62</td>\n",
       "      <td>5780.09</td>\n",
       "      <td>1545.26</td>\n",
       "      <td>7302.54</td>\n",
       "      <td>770.50</td>\n",
       "      <td>0.0</td>\n",
       "      <td>35.5</td>\n",
       "      <td>1157.82</td>\n",
       "      <td>293.65</td>\n",
       "      <td>572.31</td>\n",
       "      <td>396.65</td>\n",
       "      <td>0</td>\n",
       "      <td>0</td>\n",
       "      <td>278.0</td>\n",
       "      <td>28060.34</td>\n",
       "    </tr>\n",
       "    <tr>\n",
       "      <th>1</th>\n",
       "      <td>2020-01-01</td>\n",
       "      <td>1</td>\n",
       "      <td>5161.03</td>\n",
       "      <td>3079.97</td>\n",
       "      <td>5792.66</td>\n",
       "      <td>1548.51</td>\n",
       "      <td>7286.46</td>\n",
       "      <td>776.18</td>\n",
       "      <td>0.0</td>\n",
       "      <td>35.8</td>\n",
       "      <td>1164.57</td>\n",
       "      <td>273.78</td>\n",
       "      <td>575.65</td>\n",
       "      <td>392.46</td>\n",
       "      <td>0</td>\n",
       "      <td>0</td>\n",
       "      <td>394.0</td>\n",
       "      <td>26481.07</td>\n",
       "    </tr>\n",
       "    <tr>\n",
       "      <th>2</th>\n",
       "      <td>2020-01-01</td>\n",
       "      <td>2</td>\n",
       "      <td>5149.52</td>\n",
       "      <td>2160.79</td>\n",
       "      <td>5755.22</td>\n",
       "      <td>1460.39</td>\n",
       "      <td>7281.67</td>\n",
       "      <td>787.75</td>\n",
       "      <td>0.0</td>\n",
       "      <td>36.3</td>\n",
       "      <td>1167.74</td>\n",
       "      <td>273.78</td>\n",
       "      <td>585.67</td>\n",
       "      <td>390.22</td>\n",
       "      <td>0</td>\n",
       "      <td>0</td>\n",
       "      <td>172.0</td>\n",
       "      <td>25221.05</td>\n",
       "    </tr>\n",
       "    <tr>\n",
       "      <th>3</th>\n",
       "      <td>2020-01-01</td>\n",
       "      <td>3</td>\n",
       "      <td>3860.16</td>\n",
       "      <td>2292.47</td>\n",
       "      <td>5793.94</td>\n",
       "      <td>1591.92</td>\n",
       "      <td>7299.57</td>\n",
       "      <td>815.19</td>\n",
       "      <td>0.0</td>\n",
       "      <td>36.6</td>\n",
       "      <td>1168.91</td>\n",
       "      <td>271.57</td>\n",
       "      <td>569.56</td>\n",
       "      <td>392.99</td>\n",
       "      <td>0</td>\n",
       "      <td>0</td>\n",
       "      <td>154.0</td>\n",
       "      <td>24246.88</td>\n",
       "    </tr>\n",
       "  </tbody>\n",
       "</table>\n",
       "</div>"
      ],
      "text/plain": [
       "       Tarih  Saat  Doğalgaz  Barajlı   Linyit   Akarsu  İthal Kömür  Rüzgar  \\\n",
       "0 2020-01-01     0   6166.40  3761.62  5780.09  1545.26      7302.54  770.50   \n",
       "1 2020-01-01     1   5161.03  3079.97  5792.66  1548.51      7286.46  776.18   \n",
       "2 2020-01-01     2   5149.52  2160.79  5755.22  1460.39      7281.67  787.75   \n",
       "3 2020-01-01     3   3860.16  2292.47  5793.94  1591.92      7299.57  815.19   \n",
       "\n",
       "   Güneş  Fuel Oil  Jeo Termal  Asfaltit Kömür  Taş Kömür  Biyokütle  Nafta  \\\n",
       "0    0.0      35.5     1157.82          293.65     572.31     396.65      0   \n",
       "1    0.0      35.8     1164.57          273.78     575.65     392.46      0   \n",
       "2    0.0      36.3     1167.74          273.78     585.67     390.22      0   \n",
       "3    0.0      36.6     1168.91          271.57     569.56     392.99      0   \n",
       "\n",
       "   LNG  Uluslararası    Toplam  \n",
       "0    0         278.0  28060.34  \n",
       "1    0         394.0  26481.07  \n",
       "2    0         172.0  25221.05  \n",
       "3    0         154.0  24246.88  "
      ]
     },
     "execution_count": 4,
     "metadata": {},
     "output_type": "execute_result"
    }
   ],
   "source": [
    "production.head(4)"
   ]
  },
  {
   "cell_type": "code",
   "execution_count": 5,
   "id": "da0c1988-659d-4087-8b44-f17ebe518257",
   "metadata": {},
   "outputs": [
    {
     "data": {
      "text/html": [
       "<div>\n",
       "<style scoped>\n",
       "    .dataframe tbody tr th:only-of-type {\n",
       "        vertical-align: middle;\n",
       "    }\n",
       "\n",
       "    .dataframe tbody tr th {\n",
       "        vertical-align: top;\n",
       "    }\n",
       "\n",
       "    .dataframe thead th {\n",
       "        text-align: right;\n",
       "    }\n",
       "</style>\n",
       "<table border=\"1\" class=\"dataframe\">\n",
       "  <thead>\n",
       "    <tr style=\"text-align: right;\">\n",
       "      <th></th>\n",
       "      <th>Saat</th>\n",
       "      <th>Doğalgaz</th>\n",
       "      <th>Barajlı</th>\n",
       "      <th>Linyit</th>\n",
       "      <th>Akarsu</th>\n",
       "      <th>İthal Kömür</th>\n",
       "      <th>Rüzgar</th>\n",
       "      <th>Güneş</th>\n",
       "      <th>Fuel Oil</th>\n",
       "      <th>Jeo Termal</th>\n",
       "      <th>Asfaltit Kömür</th>\n",
       "      <th>Taş Kömür</th>\n",
       "      <th>Biyokütle</th>\n",
       "      <th>Nafta</th>\n",
       "      <th>LNG</th>\n",
       "      <th>Uluslararası</th>\n",
       "      <th>Toplam</th>\n",
       "    </tr>\n",
       "  </thead>\n",
       "  <tbody>\n",
       "    <tr>\n",
       "      <th>count</th>\n",
       "      <td>8808.00000</td>\n",
       "      <td>8808.000000</td>\n",
       "      <td>8808.000000</td>\n",
       "      <td>8808.000000</td>\n",
       "      <td>8808.000000</td>\n",
       "      <td>8808.000000</td>\n",
       "      <td>8808.000000</td>\n",
       "      <td>8808.000000</td>\n",
       "      <td>8808.000000</td>\n",
       "      <td>8808.000000</td>\n",
       "      <td>8808.000000</td>\n",
       "      <td>8808.000000</td>\n",
       "      <td>8808.000000</td>\n",
       "      <td>8808.0</td>\n",
       "      <td>8808.0</td>\n",
       "      <td>8808.000000</td>\n",
       "      <td>8808.000000</td>\n",
       "    </tr>\n",
       "    <tr>\n",
       "      <th>mean</th>\n",
       "      <td>11.50000</td>\n",
       "      <td>7746.026504</td>\n",
       "      <td>6515.794933</td>\n",
       "      <td>4303.827785</td>\n",
       "      <td>2331.419566</td>\n",
       "      <td>7111.608642</td>\n",
       "      <td>2788.028970</td>\n",
       "      <td>47.980268</td>\n",
       "      <td>35.631681</td>\n",
       "      <td>1061.087693</td>\n",
       "      <td>252.972661</td>\n",
       "      <td>431.470344</td>\n",
       "      <td>463.165296</td>\n",
       "      <td>0.0</td>\n",
       "      <td>0.0</td>\n",
       "      <td>-62.418569</td>\n",
       "      <td>33026.595775</td>\n",
       "    </tr>\n",
       "    <tr>\n",
       "      <th>std</th>\n",
       "      <td>6.92258</td>\n",
       "      <td>3952.323549</td>\n",
       "      <td>3171.403680</td>\n",
       "      <td>622.512318</td>\n",
       "      <td>1448.579504</td>\n",
       "      <td>1716.678584</td>\n",
       "      <td>1608.350955</td>\n",
       "      <td>66.317553</td>\n",
       "      <td>3.309019</td>\n",
       "      <td>105.220071</td>\n",
       "      <td>79.484606</td>\n",
       "      <td>158.347459</td>\n",
       "      <td>36.506329</td>\n",
       "      <td>0.0</td>\n",
       "      <td>0.0</td>\n",
       "      <td>315.830842</td>\n",
       "      <td>5495.008940</td>\n",
       "    </tr>\n",
       "    <tr>\n",
       "      <th>min</th>\n",
       "      <td>0.00000</td>\n",
       "      <td>496.660000</td>\n",
       "      <td>366.190000</td>\n",
       "      <td>2189.100000</td>\n",
       "      <td>419.440000</td>\n",
       "      <td>992.650000</td>\n",
       "      <td>139.760000</td>\n",
       "      <td>0.000000</td>\n",
       "      <td>0.000000</td>\n",
       "      <td>663.530000</td>\n",
       "      <td>48.570000</td>\n",
       "      <td>167.240000</td>\n",
       "      <td>369.680000</td>\n",
       "      <td>0.0</td>\n",
       "      <td>0.0</td>\n",
       "      <td>-1949.250000</td>\n",
       "      <td>15246.640000</td>\n",
       "    </tr>\n",
       "    <tr>\n",
       "      <th>25%</th>\n",
       "      <td>5.75000</td>\n",
       "      <td>3980.625000</td>\n",
       "      <td>3902.125000</td>\n",
       "      <td>3921.495000</td>\n",
       "      <td>1090.195000</td>\n",
       "      <td>6708.195000</td>\n",
       "      <td>1370.720000</td>\n",
       "      <td>0.000000</td>\n",
       "      <td>34.200000</td>\n",
       "      <td>993.385000</td>\n",
       "      <td>211.960000</td>\n",
       "      <td>272.177500</td>\n",
       "      <td>439.615000</td>\n",
       "      <td>0.0</td>\n",
       "      <td>0.0</td>\n",
       "      <td>-313.360000</td>\n",
       "      <td>29067.472500</td>\n",
       "    </tr>\n",
       "    <tr>\n",
       "      <th>50%</th>\n",
       "      <td>11.50000</td>\n",
       "      <td>8929.805000</td>\n",
       "      <td>6796.245000</td>\n",
       "      <td>4305.005000</td>\n",
       "      <td>1809.795000</td>\n",
       "      <td>7656.220000</td>\n",
       "      <td>2588.285000</td>\n",
       "      <td>2.670000</td>\n",
       "      <td>36.400000</td>\n",
       "      <td>1089.000000</td>\n",
       "      <td>242.880000</td>\n",
       "      <td>438.840000</td>\n",
       "      <td>458.440000</td>\n",
       "      <td>0.0</td>\n",
       "      <td>0.0</td>\n",
       "      <td>-85.000000</td>\n",
       "      <td>32908.105000</td>\n",
       "    </tr>\n",
       "    <tr>\n",
       "      <th>75%</th>\n",
       "      <td>17.25000</td>\n",
       "      <td>11058.337500</td>\n",
       "      <td>9052.125000</td>\n",
       "      <td>4732.692500</td>\n",
       "      <td>3552.550000</td>\n",
       "      <td>8340.122500</td>\n",
       "      <td>4092.695000</td>\n",
       "      <td>93.282500</td>\n",
       "      <td>37.800000</td>\n",
       "      <td>1141.867500</td>\n",
       "      <td>333.390000</td>\n",
       "      <td>598.862500</td>\n",
       "      <td>480.445000</td>\n",
       "      <td>0.0</td>\n",
       "      <td>0.0</td>\n",
       "      <td>182.000000</td>\n",
       "      <td>37484.857500</td>\n",
       "    </tr>\n",
       "    <tr>\n",
       "      <th>max</th>\n",
       "      <td>23.00000</td>\n",
       "      <td>14615.630000</td>\n",
       "      <td>15891.780000</td>\n",
       "      <td>6149.070000</td>\n",
       "      <td>5744.500000</td>\n",
       "      <td>8790.980000</td>\n",
       "      <td>6861.040000</td>\n",
       "      <td>297.990000</td>\n",
       "      <td>43.600000</td>\n",
       "      <td>1255.580000</td>\n",
       "      <td>362.100000</td>\n",
       "      <td>692.620000</td>\n",
       "      <td>596.090000</td>\n",
       "      <td>0.0</td>\n",
       "      <td>0.0</td>\n",
       "      <td>789.000000</td>\n",
       "      <td>45210.030000</td>\n",
       "    </tr>\n",
       "  </tbody>\n",
       "</table>\n",
       "</div>"
      ],
      "text/plain": [
       "             Saat      Doğalgaz       Barajlı       Linyit       Akarsu  \\\n",
       "count  8808.00000   8808.000000   8808.000000  8808.000000  8808.000000   \n",
       "mean     11.50000   7746.026504   6515.794933  4303.827785  2331.419566   \n",
       "std       6.92258   3952.323549   3171.403680   622.512318  1448.579504   \n",
       "min       0.00000    496.660000    366.190000  2189.100000   419.440000   \n",
       "25%       5.75000   3980.625000   3902.125000  3921.495000  1090.195000   \n",
       "50%      11.50000   8929.805000   6796.245000  4305.005000  1809.795000   \n",
       "75%      17.25000  11058.337500   9052.125000  4732.692500  3552.550000   \n",
       "max      23.00000  14615.630000  15891.780000  6149.070000  5744.500000   \n",
       "\n",
       "       İthal Kömür       Rüzgar        Güneş     Fuel Oil   Jeo Termal  \\\n",
       "count  8808.000000  8808.000000  8808.000000  8808.000000  8808.000000   \n",
       "mean   7111.608642  2788.028970    47.980268    35.631681  1061.087693   \n",
       "std    1716.678584  1608.350955    66.317553     3.309019   105.220071   \n",
       "min     992.650000   139.760000     0.000000     0.000000   663.530000   \n",
       "25%    6708.195000  1370.720000     0.000000    34.200000   993.385000   \n",
       "50%    7656.220000  2588.285000     2.670000    36.400000  1089.000000   \n",
       "75%    8340.122500  4092.695000    93.282500    37.800000  1141.867500   \n",
       "max    8790.980000  6861.040000   297.990000    43.600000  1255.580000   \n",
       "\n",
       "       Asfaltit Kömür    Taş Kömür    Biyokütle   Nafta     LNG  Uluslararası  \\\n",
       "count     8808.000000  8808.000000  8808.000000  8808.0  8808.0   8808.000000   \n",
       "mean       252.972661   431.470344   463.165296     0.0     0.0    -62.418569   \n",
       "std         79.484606   158.347459    36.506329     0.0     0.0    315.830842   \n",
       "min         48.570000   167.240000   369.680000     0.0     0.0  -1949.250000   \n",
       "25%        211.960000   272.177500   439.615000     0.0     0.0   -313.360000   \n",
       "50%        242.880000   438.840000   458.440000     0.0     0.0    -85.000000   \n",
       "75%        333.390000   598.862500   480.445000     0.0     0.0    182.000000   \n",
       "max        362.100000   692.620000   596.090000     0.0     0.0    789.000000   \n",
       "\n",
       "             Toplam  \n",
       "count   8808.000000  \n",
       "mean   33026.595775  \n",
       "std     5495.008940  \n",
       "min    15246.640000  \n",
       "25%    29067.472500  \n",
       "50%    32908.105000  \n",
       "75%    37484.857500  \n",
       "max    45210.030000  "
      ]
     },
     "execution_count": 5,
     "metadata": {},
     "output_type": "execute_result"
    }
   ],
   "source": [
    "production.describe()"
   ]
  },
  {
   "cell_type": "markdown",
   "id": "1e8b8c99-4392-41a7-a363-0201bb345806",
   "metadata": {},
   "source": [
    "we are going to calculate if the average total production will be exceeded with given Natural gas variable. \n",
    "If exceeded the probability is 1, if not exceeded it is 0. Let's arrange the data as such."
   ]
  },
  {
   "cell_type": "code",
   "execution_count": 25,
   "id": "7eda6d2a-0f14-4b88-b68d-81eacee03282",
   "metadata": {},
   "outputs": [],
   "source": [
    "production_log = production[['Doğalgaz', 'Toplam']].copy(deep=True)"
   ]
  },
  {
   "cell_type": "code",
   "execution_count": 26,
   "id": "5c1e5858-c794-43c9-99c1-8ca7dfe1627a",
   "metadata": {},
   "outputs": [],
   "source": [
    "toplam_mean = production_log['Toplam'].mean()"
   ]
  },
  {
   "cell_type": "code",
   "execution_count": 27,
   "id": "f97c6834-8168-4701-a101-61cd91245c18",
   "metadata": {},
   "outputs": [],
   "source": [
    "production_log['Toplam'] = production_log['Toplam'].where(production_log['Toplam']<toplam_mean, 1)\n",
    "production_log['Toplam'] = production_log['Toplam'].where(production_log['Toplam']==1, 0)"
   ]
  },
  {
   "cell_type": "code",
   "execution_count": 29,
   "id": "cb7b3fb9-b55d-48ac-ab6f-3f90267a0ade",
   "metadata": {},
   "outputs": [
    {
     "data": {
      "text/plain": [
       "0.0    4455\n",
       "1.0    4353\n",
       "Name: Toplam, dtype: int64"
      ]
     },
     "execution_count": 29,
     "metadata": {},
     "output_type": "execute_result"
    }
   ],
   "source": [
    "production_log['Toplam'].value_counts()"
   ]
  },
  {
   "cell_type": "markdown",
   "id": "7b7d467a-c921-4a2f-b62a-32613d349570",
   "metadata": {},
   "source": [
    "if you have unbalanced data use this:\n",
    "\n",
    "from imblearn.over_sampling import SMOTE"
   ]
  },
  {
   "cell_type": "code",
   "execution_count": 30,
   "id": "c1baeba2-ec36-4a8a-b914-e1e7ddcbe5e0",
   "metadata": {},
   "outputs": [
    {
     "data": {
      "text/html": [
       "<div>\n",
       "<style scoped>\n",
       "    .dataframe tbody tr th:only-of-type {\n",
       "        vertical-align: middle;\n",
       "    }\n",
       "\n",
       "    .dataframe tbody tr th {\n",
       "        vertical-align: top;\n",
       "    }\n",
       "\n",
       "    .dataframe thead th {\n",
       "        text-align: right;\n",
       "    }\n",
       "</style>\n",
       "<table border=\"1\" class=\"dataframe\">\n",
       "  <thead>\n",
       "    <tr style=\"text-align: right;\">\n",
       "      <th></th>\n",
       "      <th>Doğalgaz</th>\n",
       "      <th>Toplam</th>\n",
       "    </tr>\n",
       "  </thead>\n",
       "  <tbody>\n",
       "    <tr>\n",
       "      <th>0</th>\n",
       "      <td>6166.40</td>\n",
       "      <td>0.0</td>\n",
       "    </tr>\n",
       "    <tr>\n",
       "      <th>1</th>\n",
       "      <td>5161.03</td>\n",
       "      <td>0.0</td>\n",
       "    </tr>\n",
       "    <tr>\n",
       "      <th>2</th>\n",
       "      <td>5149.52</td>\n",
       "      <td>0.0</td>\n",
       "    </tr>\n",
       "    <tr>\n",
       "      <th>3</th>\n",
       "      <td>3860.16</td>\n",
       "      <td>0.0</td>\n",
       "    </tr>\n",
       "  </tbody>\n",
       "</table>\n",
       "</div>"
      ],
      "text/plain": [
       "   Doğalgaz  Toplam\n",
       "0   6166.40     0.0\n",
       "1   5161.03     0.0\n",
       "2   5149.52     0.0\n",
       "3   3860.16     0.0"
      ]
     },
     "execution_count": 30,
     "metadata": {},
     "output_type": "execute_result"
    }
   ],
   "source": [
    "production_log.head(4)"
   ]
  },
  {
   "cell_type": "code",
   "execution_count": 39,
   "id": "eae1a8c1-1ca7-41a3-889e-dda67b7811c0",
   "metadata": {},
   "outputs": [],
   "source": [
    "X = production_log['Doğalgaz'].copy(deep=True).values.reshape(-1, 1)\n",
    "y = production_log['Toplam'].copy(deep=True).values"
   ]
  },
  {
   "cell_type": "code",
   "execution_count": 105,
   "id": "c21bd783-c6a4-454d-bdbc-16b88e7ccede",
   "metadata": {},
   "outputs": [],
   "source": [
    "X_train, X_test, y_train, y_test = train_test_split(X, y, test_size=0.2, random_state=0, shuffle=True)"
   ]
  },
  {
   "cell_type": "code",
   "execution_count": 106,
   "id": "9c519798-20a3-40c0-b810-56ab83bad1df",
   "metadata": {},
   "outputs": [],
   "source": [
    "# normalize train and test X data\n",
    "scaler = StandardScaler()\n",
    "X_train = scaler.fit_transform(X_train)\n",
    "X_test = scaler.transform(X_test)"
   ]
  },
  {
   "cell_type": "code",
   "execution_count": null,
   "id": "861437e1-471b-41fd-b5a1-951665fd96a2",
   "metadata": {},
   "outputs": [],
   "source": []
  },
  {
   "cell_type": "code",
   "execution_count": 108,
   "id": "8993ea0f-d6d5-45aa-9571-705643e38f2b",
   "metadata": {},
   "outputs": [
    {
     "data": {
      "text/plain": [
       "LogisticRegression(random_state=0, solver='liblinear')"
      ]
     },
     "execution_count": 108,
     "metadata": {},
     "output_type": "execute_result"
    }
   ],
   "source": [
    "# train the model\n",
    "# liblinear does not work without regularization, so here it is l2 reg.\n",
    "# C is the regularization strength, larger = weaker regul.\n",
    "model = LogisticRegression(solver='liblinear', penalty='l2', C = 1.0, random_state=0)\n",
    "model.fit(X_train, y_train)"
   ]
  },
  {
   "cell_type": "code",
   "execution_count": 109,
   "id": "c2dec983-473d-45c2-91c4-b7476152e466",
   "metadata": {},
   "outputs": [
    {
     "data": {
      "text/plain": [
       "array([0., 1.])"
      ]
     },
     "execution_count": 109,
     "metadata": {},
     "output_type": "execute_result"
    }
   ],
   "source": [
    "model.classes_"
   ]
  },
  {
   "cell_type": "code",
   "execution_count": 110,
   "id": "94d24daa-e0ca-4b35-9a90-ed96dcbd0d0f",
   "metadata": {},
   "outputs": [
    {
     "data": {
      "text/plain": [
       "array([-0.13374842])"
      ]
     },
     "execution_count": 110,
     "metadata": {},
     "output_type": "execute_result"
    }
   ],
   "source": [
    "model.intercept_"
   ]
  },
  {
   "cell_type": "code",
   "execution_count": 111,
   "id": "e166dd5e-3f9a-4611-a74d-e23efaa88018",
   "metadata": {},
   "outputs": [
    {
     "data": {
      "text/plain": [
       "array([[1.53620462]])"
      ]
     },
     "execution_count": 111,
     "metadata": {},
     "output_type": "execute_result"
    }
   ],
   "source": [
    "model.coef_"
   ]
  },
  {
   "cell_type": "code",
   "execution_count": 112,
   "id": "c235cba6-2cd1-4300-995a-cf81b675e084",
   "metadata": {},
   "outputs": [
    {
     "data": {
      "text/plain": [
       "array([[0.18392387, 0.81607613],\n",
       "       [0.80097736, 0.19902264],\n",
       "       [0.21131019, 0.78868981],\n",
       "       ...,\n",
       "       [0.37239111, 0.62760889],\n",
       "       [0.86525934, 0.13474066],\n",
       "       [0.92114797, 0.07885203]])"
      ]
     },
     "execution_count": 112,
     "metadata": {},
     "output_type": "execute_result"
    }
   ],
   "source": [
    "model.predict_proba(X_train)"
   ]
  },
  {
   "cell_type": "code",
   "execution_count": 113,
   "id": "316112d4-217e-4922-814c-14a97491b35b",
   "metadata": {},
   "outputs": [
    {
     "data": {
      "text/plain": [
       "0.7496451887595799"
      ]
     },
     "execution_count": 113,
     "metadata": {},
     "output_type": "execute_result"
    }
   ],
   "source": [
    "model.score(X_train, y_train)"
   ]
  },
  {
   "cell_type": "code",
   "execution_count": 114,
   "id": "de29c369-d0f9-46d2-9686-44ee15c62b96",
   "metadata": {},
   "outputs": [
    {
     "data": {
      "text/plain": [
       "array([[2463, 1113],\n",
       "       [ 651, 2819]])"
      ]
     },
     "execution_count": 114,
     "metadata": {},
     "output_type": "execute_result"
    }
   ],
   "source": [
    "confusion_matrix(y_train, model.predict(X_train))"
   ]
  },
  {
   "cell_type": "code",
   "execution_count": 115,
   "id": "342d5330-1202-498d-ab49-d4154f691f20",
   "metadata": {},
   "outputs": [
    {
     "data": {
      "image/png": "[encoded data removed]",
      "text/plain": [
       "<Figure size 576x576 with 1 Axes>"
      ]
     },
     "metadata": {
      "needs_background": "light"
     },
     "output_type": "display_data"
    }
   ],
   "source": [
    "cm = confusion_matrix(y_train, model.predict(X_train))\n",
    "\n",
    "fig, ax = plt.subplots(figsize = (8, 8))\n",
    "ax.imshow(cm, cmap='Blues')\n",
    "ax.grid(False)\n",
    "\n",
    "ax.xaxis.set(ticks=(0, 1), ticklabels=('Predicted 0s', 'Predicted 1s'))\n",
    "ax.yaxis.set(ticks=(0, 1), ticklabels=('Actual 0s', 'Actual 1s'))\n",
    "\n",
    "ax.set_ylim(1.5, -0.5)\n",
    "\n",
    "for i in range(2):\n",
    "    for j in range(2):\n",
    "        ax.text(j, i, cm[i, j], ha='center', va='center', color='red')\n",
    "plt.show()"
   ]
  },
  {
   "cell_type": "code",
   "execution_count": 116,
   "id": "feea7a25-0ffc-45de-bc1a-3775155ab82b",
   "metadata": {},
   "outputs": [
    {
     "name": "stdout",
     "output_type": "stream",
     "text": [
      "              precision    recall  f1-score   support\n",
      "\n",
      "         0.0       0.79      0.69      0.74      3576\n",
      "         1.0       0.72      0.81      0.76      3470\n",
      "\n",
      "    accuracy                           0.75      7046\n",
      "   macro avg       0.75      0.75      0.75      7046\n",
      "weighted avg       0.75      0.75      0.75      7046\n",
      "\n"
     ]
    }
   ],
   "source": [
    "# train\n",
    "print(classification_report(y_train, model.predict(X_train)))"
   ]
  },
  {
   "cell_type": "code",
   "execution_count": 117,
   "id": "7c6f162e-c49b-44d6-994e-1a650a025dff",
   "metadata": {},
   "outputs": [],
   "source": [
    "y_pred = model.predict(X_test)"
   ]
  },
  {
   "cell_type": "code",
   "execution_count": 118,
   "id": "75861e71-f1b4-475c-8fc3-f0fad85c12bf",
   "metadata": {},
   "outputs": [
    {
     "name": "stdout",
     "output_type": "stream",
     "text": [
      "              precision    recall  f1-score   support\n",
      "\n",
      "         0.0       0.76      0.68      0.72       879\n",
      "         1.0       0.71      0.79      0.75       883\n",
      "\n",
      "    accuracy                           0.73      1762\n",
      "   macro avg       0.74      0.73      0.73      1762\n",
      "weighted avg       0.74      0.73      0.73      1762\n",
      "\n"
     ]
    }
   ],
   "source": [
    "# test\n",
    "print(classification_report(y_test, y_pred))"
   ]
  },
  {
   "cell_type": "code",
   "execution_count": 121,
   "id": "e0112cec-fb13-43d3-9695-a638f753e262",
   "metadata": {},
   "outputs": [],
   "source": [
    "# roc curve calculation\n",
    "logit_roc_auc = roc_auc_score(y_test, y_pred)\n",
    "fpr, tpr, thresholds = roc_curve(y_test, model.predict_proba(X_test)[:, 1])"
   ]
  },
  {
   "cell_type": "code",
   "execution_count": 123,
   "id": "d11427a1-7c5c-4112-8843-dd3571dc77c5",
   "metadata": {},
   "outputs": [
    {
     "data": {
      "image/png": "[encoded data removed]",
      "text/plain": [
       "<Figure size 432x288 with 1 Axes>"
      ]
     },
     "metadata": {
      "needs_background": "light"
     },
     "output_type": "display_data"
    }
   ],
   "source": [
    "plt.figure()\n",
    "plt.plot(fpr, tpr, label='Logistic Regression (area = %0.2f)' % logit_roc_auc)\n",
    "plt.plot([0, 1], [0, 1],'r--')\n",
    "plt.xlim([0.0, 1.0])\n",
    "plt.ylim([0.0, 1.05])\n",
    "plt.xlabel('False Positive Rate')\n",
    "plt.ylabel('True Positive Rate')\n",
    "plt.title('Receiver operating characteristic')\n",
    "plt.legend(loc=\"lower right\")\n",
    "plt.savefig('Log_ROC')\n",
    "plt.show()"
   ]
  },
  {
   "cell_type": "code",
   "execution_count": null,
   "id": "141ec889-023f-4217-b4b4-61060914979b",
   "metadata": {},
   "outputs": [],
   "source": []
  }
 ],
 "metadata": {
  "kernelspec": {
   "display_name": "Python 3 (ipykernel)",
   "language": "python",
   "name": "python3"
  },
  "language_info": {
   "codemirror_mode": {
    "name": "ipython",
    "version": 3
   },
   "file_extension": ".py",
   "mimetype": "text/x-python",
   "name": "python",
   "nbconvert_exporter": "python",
   "pygments_lexer": "ipython3",
   "version": "3.9.7"
  }
 },
 "nbformat": 4,
 "nbformat_minor": 5
}
